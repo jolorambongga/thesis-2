{
  "cells": [
    {
      "cell_type": "markdown",
      "metadata": {
        "id": "view-in-github",
        "colab_type": "text"
      },
      "source": [
        "<a href=\"https://colab.research.google.com/github/jolorambongga/thesis-2/blob/main/Copy_of_Custom_Model_Rider.ipynb\" target=\"_parent\"><img src=\"https://colab.research.google.com/assets/colab-badge.svg\" alt=\"Open In Colab\"/></a>"
      ]
    },
    {
      "cell_type": "markdown",
      "metadata": {
        "id": "WkZtlSGS20QX"
      },
      "source": [
        "### **IMPORT G-DRIVE**"
      ]
    },
    {
      "cell_type": "code",
      "execution_count": 1,
      "metadata": {
        "id": "cHyzAPOi2qtl",
        "colab": {
          "base_uri": "https://localhost:8080/"
        },
        "outputId": "af512dfe-bd41-42b3-c853-e001fad6edca"
      },
      "outputs": [
        {
          "output_type": "stream",
          "name": "stdout",
          "text": [
            "Mounted at /content/drive\n"
          ]
        }
      ],
      "source": [
        "from google.colab import drive\n",
        "drive.mount('/content/drive')"
      ]
    },
    {
      "cell_type": "markdown",
      "metadata": {
        "id": "otRuQvPOWuJ0"
      },
      "source": [
        "### **CHECK DIRECTORY & CHANGE TO G-DRIVE BEFORE GIT CLONE**"
      ]
    },
    {
      "cell_type": "code",
      "source": [
        "!pwd"
      ],
      "metadata": {
        "colab": {
          "base_uri": "https://localhost:8080/"
        },
        "id": "c1WFEBF5RNVL",
        "outputId": "64a979f9-21b5-4d64-e295-c5e33931f26c"
      },
      "execution_count": 2,
      "outputs": [
        {
          "output_type": "stream",
          "name": "stdout",
          "text": [
            "/content\n"
          ]
        }
      ]
    },
    {
      "cell_type": "markdown",
      "source": [
        "### **CHANGE DIRECTORY - PATH/TO/FOLDER**"
      ],
      "metadata": {
        "id": "3qzr4kDHRqal"
      }
    },
    {
      "cell_type": "code",
      "source": [
        "%cd /content/drive/MyDrive/aTHESIS"
      ],
      "metadata": {
        "colab": {
          "base_uri": "https://localhost:8080/"
        },
        "id": "DS7JQnnqRhb3",
        "outputId": "f4284a35-79af-4d46-817a-ab84747776ad"
      },
      "execution_count": 4,
      "outputs": [
        {
          "output_type": "stream",
          "name": "stdout",
          "text": [
            "/content/drive/MyDrive/aTHESIS\n"
          ]
        }
      ]
    },
    {
      "cell_type": "markdown",
      "metadata": {
        "id": "KpNDFnNx3A4p"
      },
      "source": [
        "### **CLONE YOLOv5**"
      ]
    },
    {
      "cell_type": "code",
      "execution_count": 5,
      "metadata": {
        "colab": {
          "base_uri": "https://localhost:8080/"
        },
        "id": "82jVINZh3DZg",
        "outputId": "704ffac6-b20c-49a9-90fc-dc0c63cbc4f0"
      },
      "outputs": [
        {
          "output_type": "stream",
          "name": "stderr",
          "text": [
            "YOLOv5 🚀 v7.0-312-g1bcd17ee Python-3.10.12 torch-2.2.1+cu121 CUDA:0 (Tesla T4, 15102MiB)\n"
          ]
        },
        {
          "output_type": "stream",
          "name": "stdout",
          "text": [
            "Setup complete ✅ (2 CPUs, 12.7 GB RAM, 30.0/78.2 GB disk)\n"
          ]
        }
      ],
      "source": [
        "!git clone https://github.com/ultralytics/yolov5  # clone\n",
        "%cd yolov5\n",
        "%pip install -qr requirements.txt comet_ml  # install\n",
        "\n",
        "import torch\n",
        "import utils\n",
        "display = utils.notebook_init()  # checks"
      ]
    },
    {
      "cell_type": "markdown",
      "metadata": {
        "id": "DILI_LUs5BsC"
      },
      "source": [
        "### **MAKE OWN DATA.YAML  FILE (CHANGE PATH ACCORDINGLY)**"
      ]
    },
    {
      "cell_type": "code",
      "execution_count": null,
      "metadata": {
        "id": "DX2GA86r5NhT"
      },
      "outputs": [],
      "source": [
        "train: /content/drive/MyDrive/DATASET/motor_rider/images/\n",
        "val: /content/drive/MyDrive/DATASET/motor_rider/images/validate\n",
        "test: /content/drive/MyDrive/DATASET/motor_rider/images/ztest\n",
        "\n",
        "# Classes\n",
        "names:\n",
        "  0: rider\n",
        "  1: not_rider\n",
        "  2: with_helmet\n",
        "  3: without_helmet\n",
        "  4: plate_num"
      ]
    },
    {
      "cell_type": "markdown",
      "metadata": {
        "id": "Uuct-zU65O2U"
      },
      "source": [
        "### **TRAIN THE YOLOv5 BASED ON CUSTOM DATASET**"
      ]
    },
    {
      "cell_type": "code",
      "execution_count": 6,
      "metadata": {
        "colab": {
          "base_uri": "https://localhost:8080/"
        },
        "id": "69wB7n6w2yv1",
        "outputId": "05adf617-0364-4916-83a2-148ef0cd6304"
      },
      "outputs": [
        {
          "output_type": "stream",
          "name": "stdout",
          "text": [
            "/content/drive/MyDrive/aTHESIS/yolov5\n"
          ]
        }
      ],
      "source": [
        "!pwd"
      ]
    },
    {
      "cell_type": "code",
      "execution_count": 5,
      "metadata": {
        "colab": {
          "base_uri": "https://localhost:8080/"
        },
        "id": "3bvT2tr6206h",
        "outputId": "e5978089-f80d-4393-afc7-97504515aee8"
      },
      "outputs": [
        {
          "output_type": "stream",
          "name": "stdout",
          "text": [
            "/content/drive/MyDrive/aTHESIS/yolov5\n"
          ]
        }
      ],
      "source": [
        "%cd /content/drive/MyDrive/aTHESIS/yolov5"
      ]
    },
    {
      "cell_type": "markdown",
      "source": [
        "### **Location:** runs/train/exp/weights/best.pt"
      ],
      "metadata": {
        "id": "JC2_TOmxCSPF"
      }
    },
    {
      "cell_type": "code",
      "execution_count": null,
      "metadata": {
        "colab": {
          "base_uri": "https://localhost:8080/"
        },
        "id": "ezm9utIa5Sof",
        "outputId": "b663c052-9116-4017-ccb5-13e661c4bc7e"
      },
      "outputs": [
        {
          "output_type": "stream",
          "name": "stdout",
          "text": [
            "2024-05-17 16:05:28.583823: E external/local_xla/xla/stream_executor/cuda/cuda_dnn.cc:9261] Unable to register cuDNN factory: Attempting to register factory for plugin cuDNN when one has already been registered\n",
            "2024-05-17 16:05:28.583878: E external/local_xla/xla/stream_executor/cuda/cuda_fft.cc:607] Unable to register cuFFT factory: Attempting to register factory for plugin cuFFT when one has already been registered\n",
            "2024-05-17 16:05:28.585256: E external/local_xla/xla/stream_executor/cuda/cuda_blas.cc:1515] Unable to register cuBLAS factory: Attempting to register factory for plugin cuBLAS when one has already been registered\n",
            "\u001b[34m\u001b[1mtrain: \u001b[0mweights=yolov5x.pt, cfg=, data=myData.yaml, hyp=data/hyps/hyp.scratch-low.yaml, epochs=100, batch_size=16, imgsz=640, rect=False, resume=False, nosave=False, noval=False, noautoanchor=False, noplots=False, evolve=None, evolve_population=data/hyps, resume_evolve=None, bucket=, cache=None, image_weights=False, device=, multi_scale=False, single_cls=False, optimizer=SGD, sync_bn=False, workers=8, project=runs/train, name=exp, exist_ok=False, quad=False, cos_lr=False, label_smoothing=0.0, patience=100, freeze=[0], save_period=-1, seed=0, local_rank=-1, entity=None, upload_dataset=False, bbox_interval=-1, artifact_alias=latest, ndjson_console=False, ndjson_file=False\n",
            "\u001b[34m\u001b[1mgithub: \u001b[0mup to date with https://github.com/ultralytics/yolov5 ✅\n",
            "YOLOv5 🚀 v7.0-312-g1bcd17ee Python-3.10.12 torch-2.2.1+cu121 CUDA:0 (Tesla T4, 15102MiB)\n",
            "\n",
            "\u001b[34m\u001b[1mhyperparameters: \u001b[0mlr0=0.01, lrf=0.01, momentum=0.937, weight_decay=0.0005, warmup_epochs=3.0, warmup_momentum=0.8, warmup_bias_lr=0.1, box=0.05, cls=0.5, cls_pw=1.0, obj=1.0, obj_pw=1.0, iou_t=0.2, anchor_t=4.0, fl_gamma=0.0, hsv_h=0.015, hsv_s=0.7, hsv_v=0.4, degrees=0.0, translate=0.1, scale=0.5, shear=0.0, perspective=0.0, flipud=0.0, fliplr=0.5, mosaic=1.0, mixup=0.0, copy_paste=0.0\n",
            "\u001b[34m\u001b[1mTensorBoard: \u001b[0mStart with 'tensorboard --logdir runs/train', view at http://localhost:6006/\n",
            "\u001b[1;38;5;214mCOMET WARNING:\u001b[0m Can not parse empty Comet API key\n",
            "COMET WARNING: Comet credentials have not been set. Comet will default to offline logging. Please set your credentials to enable online logging.\n",
            "\u001b[1;38;5;214mCOMET WARNING:\u001b[0m Can not parse empty Comet API key\n",
            "\u001b[1;38;5;39mCOMET INFO:\u001b[0m Using '/content/drive/MyDrive/aTHESIS/yolov5/.cometml-runs' path as offline directory. Pass 'offline_directory' parameter into constructor or set the 'COMET_OFFLINE_DIRECTORY' environment variable to manually choose where to store offline experiment archives.\n",
            "/usr/lib/python3.10/multiprocessing/popen_fork.py:66: RuntimeWarning: os.fork() was called. os.fork() is incompatible with multithreaded code, and JAX is multithreaded, so this will likely lead to a deadlock.\n",
            "  self.pid = os.fork()\n",
            "Overriding model.yaml nc=80 with nc=5\n",
            "\n",
            "                 from  n    params  module                                  arguments                     \n",
            "  0                -1  1      8800  models.common.Conv                      [3, 80, 6, 2, 2]              \n",
            "  1                -1  1    115520  models.common.Conv                      [80, 160, 3, 2]               \n",
            "  2                -1  4    309120  models.common.C3                        [160, 160, 4]                 \n",
            "  3                -1  1    461440  models.common.Conv                      [160, 320, 3, 2]              \n",
            "  4                -1  8   2259200  models.common.C3                        [320, 320, 8]                 \n",
            "  5                -1  1   1844480  models.common.Conv                      [320, 640, 3, 2]              \n",
            "  6                -1 12  13125120  models.common.C3                        [640, 640, 12]                \n",
            "  7                -1  1   7375360  models.common.Conv                      [640, 1280, 3, 2]             \n",
            "  8                -1  4  19676160  models.common.C3                        [1280, 1280, 4]               \n",
            "  9                -1  1   4099840  models.common.SPPF                      [1280, 1280, 5]               \n",
            " 10                -1  1    820480  models.common.Conv                      [1280, 640, 1, 1]             \n",
            " 11                -1  1         0  torch.nn.modules.upsampling.Upsample    [None, 2, 'nearest']          \n",
            " 12           [-1, 6]  1         0  models.common.Concat                    [1]                           \n",
            " 13                -1  4   5332480  models.common.C3                        [1280, 640, 4, False]         \n",
            " 14                -1  1    205440  models.common.Conv                      [640, 320, 1, 1]              \n",
            " 15                -1  1         0  torch.nn.modules.upsampling.Upsample    [None, 2, 'nearest']          \n",
            " 16           [-1, 4]  1         0  models.common.Concat                    [1]                           \n",
            " 17                -1  4   1335040  models.common.C3                        [640, 320, 4, False]          \n",
            " 18                -1  1    922240  models.common.Conv                      [320, 320, 3, 2]              \n",
            " 19          [-1, 14]  1         0  models.common.Concat                    [1]                           \n",
            " 20                -1  4   4922880  models.common.C3                        [640, 640, 4, False]          \n",
            " 21                -1  1   3687680  models.common.Conv                      [640, 640, 3, 2]              \n",
            " 22          [-1, 10]  1         0  models.common.Concat                    [1]                           \n",
            " 23                -1  4  19676160  models.common.C3                        [1280, 1280, 4, False]        \n",
            " 24      [17, 20, 23]  1     67290  models.yolo.Detect                      [5, [[10, 13, 16, 30, 33, 23], [30, 61, 62, 45, 59, 119], [116, 90, 156, 198, 373, 326]], [320, 640, 1280]]\n",
            "Model summary: 445 layers, 86244730 parameters, 86244730 gradients, 204.7 GFLOPs\n",
            "\n",
            "Transferred 739/745 items from yolov5x.pt\n",
            "\u001b[34m\u001b[1mAMP: \u001b[0mchecks passed ✅\n",
            "\u001b[34m\u001b[1moptimizer:\u001b[0m SGD(lr=0.01) with parameter groups 123 weight(decay=0.0), 126 weight(decay=0.0005), 126 bias\n",
            "\u001b[34m\u001b[1malbumentations: \u001b[0mBlur(p=0.01, blur_limit=(3, 7)), MedianBlur(p=0.01, blur_limit=(3, 7)), ToGray(p=0.01), CLAHE(p=0.01, clip_limit=(1, 4.0), tile_grid_size=(8, 8))\n",
            "/usr/lib/python3.10/multiprocessing/popen_fork.py:66: RuntimeWarning: os.fork() was called. os.fork() is incompatible with multithreaded code, and JAX is multithreaded, so this will likely lead to a deadlock.\n",
            "  self.pid = os.fork()\n",
            "\u001b[34m\u001b[1mtrain: \u001b[0mScanning /content/drive/MyDrive/DATASET/motor_rider/labels/train... 845 images, 1 backgrounds, 0 corrupt: 100%|██████████| 845/845 [06:50<00:00,  2.06it/s]\n",
            "\u001b[34m\u001b[1mtrain: \u001b[0mNew cache created: /content/drive/MyDrive/DATASET/motor_rider/labels/train.cache\n",
            "\u001b[34m\u001b[1mval: \u001b[0mScanning /content/drive/MyDrive/DATASET/motor_rider/labels/validate... 100 images, 0 backgrounds, 0 corrupt: 100%|██████████| 100/100 [00:43<00:00,  2.28it/s]\n",
            "\u001b[34m\u001b[1mval: \u001b[0mNew cache created: /content/drive/MyDrive/DATASET/motor_rider/labels/validate.cache\n",
            "\n",
            "\u001b[34m\u001b[1mAutoAnchor: \u001b[0m6.03 anchors/target, 1.000 Best Possible Recall (BPR). Current anchors are a good fit to dataset ✅\n",
            "Plotting labels to runs/train/exp2/labels.jpg... \n",
            "Image sizes 640 train, 640 val\n",
            "Using 2 dataloader workers\n",
            "Logging results to \u001b[1mruns/train/exp2\u001b[0m\n",
            "Starting training for 100 epochs...\n",
            "\n",
            "      Epoch    GPU_mem   box_loss   obj_loss   cls_loss  Instances       Size\n",
            "       0/99      14.7G    0.08073    0.03829    0.02457         35        640: 100%|██████████| 53/53 [01:50<00:00,  2.09s/it]\n",
            "                 Class     Images  Instances          P          R      mAP50   mAP50-95: 100%|██████████| 4/4 [00:12<00:00,  3.07s/it]\n",
            "                   all        100        190      0.548      0.407      0.049     0.0168\n",
            "\n",
            "      Epoch    GPU_mem   box_loss   obj_loss   cls_loss  Instances       Size\n",
            "       1/99      15.2G    0.07038    0.02544   0.009308         47        640: 100%|██████████| 53/53 [01:49<00:00,  2.07s/it]\n",
            "                 Class     Images  Instances          P          R      mAP50   mAP50-95: 100%|██████████| 4/4 [00:03<00:00,  1.13it/s]\n",
            "                   all        100        190      0.757      0.315      0.277      0.092\n",
            "\n",
            "      Epoch    GPU_mem   box_loss   obj_loss   cls_loss  Instances       Size\n",
            "       2/99      15.2G    0.07136    0.02009   0.007914         43        640: 100%|██████████| 53/53 [01:49<00:00,  2.07s/it]\n",
            "                 Class     Images  Instances          P          R      mAP50   mAP50-95: 100%|██████████| 4/4 [00:03<00:00,  1.14it/s]\n",
            "                   all        100        190      0.791      0.388      0.345      0.142\n",
            "\n",
            "      Epoch    GPU_mem   box_loss   obj_loss   cls_loss  Instances       Size\n",
            "       3/99      15.2G    0.05963    0.01731   0.006386         35        640: 100%|██████████| 53/53 [01:50<00:00,  2.08s/it]\n",
            "                 Class     Images  Instances          P          R      mAP50   mAP50-95: 100%|██████████| 4/4 [00:03<00:00,  1.17it/s]\n",
            "                   all        100        190      0.783      0.336      0.325      0.154\n",
            "\n",
            "      Epoch    GPU_mem   box_loss   obj_loss   cls_loss  Instances       Size\n",
            "       4/99      15.2G    0.05137    0.01544   0.004961         42        640: 100%|██████████| 53/53 [01:50<00:00,  2.08s/it]\n",
            "                 Class     Images  Instances          P          R      mAP50   mAP50-95: 100%|██████████| 4/4 [00:03<00:00,  1.18it/s]\n",
            "                   all        100        190      0.838      0.398      0.405      0.221\n",
            "\n",
            "      Epoch    GPU_mem   box_loss   obj_loss   cls_loss  Instances       Size\n",
            "       5/99      15.2G    0.04348    0.01428    0.00437         42        640: 100%|██████████| 53/53 [01:50<00:00,  2.08s/it]\n",
            "                 Class     Images  Instances          P          R      mAP50   mAP50-95: 100%|██████████| 4/4 [00:03<00:00,  1.18it/s]\n",
            "                   all        100        190      0.927      0.448      0.464      0.299\n",
            "\n",
            "      Epoch    GPU_mem   box_loss   obj_loss   cls_loss  Instances       Size\n",
            "       6/99      15.2G    0.03898    0.01337   0.003676         47        640: 100%|██████████| 53/53 [01:50<00:00,  2.08s/it]\n",
            "                 Class     Images  Instances          P          R      mAP50   mAP50-95: 100%|██████████| 4/4 [00:03<00:00,  1.22it/s]\n",
            "                   all        100        190      0.883      0.402      0.398      0.123\n",
            "\n",
            "      Epoch    GPU_mem   box_loss   obj_loss   cls_loss  Instances       Size\n",
            "       7/99      15.2G    0.03612    0.01274   0.003312         55        640: 100%|██████████| 53/53 [01:44<00:00,  1.97s/it]\n",
            "                 Class     Images  Instances          P          R      mAP50   mAP50-95: 100%|██████████| 4/4 [00:05<00:00,  1.43s/it]\n",
            "                   all        100        190       0.45       0.45      0.478      0.312\n",
            "\n",
            "      Epoch    GPU_mem   box_loss   obj_loss   cls_loss  Instances       Size\n",
            "       8/99      15.2G    0.03494    0.01259    0.00325         33        640: 100%|██████████| 53/53 [01:49<00:00,  2.07s/it]\n",
            "                 Class     Images  Instances          P          R      mAP50   mAP50-95: 100%|██████████| 4/4 [00:03<00:00,  1.08it/s]\n",
            "                   all        100        190      0.458      0.466      0.481      0.223\n",
            "\n",
            "      Epoch    GPU_mem   box_loss   obj_loss   cls_loss  Instances       Size\n",
            "       9/99      15.2G    0.03249    0.01247   0.002995         46        640: 100%|██████████| 53/53 [01:49<00:00,  2.06s/it]\n",
            "                 Class     Images  Instances          P          R      mAP50   mAP50-95: 100%|██████████| 4/4 [00:03<00:00,  1.09it/s]\n",
            "                   all        100        190      0.449       0.46      0.479      0.314\n",
            "\n",
            "      Epoch    GPU_mem   box_loss   obj_loss   cls_loss  Instances       Size\n",
            "      10/99      15.2G    0.03125    0.01168   0.002778         44        640: 100%|██████████| 53/53 [01:53<00:00,  2.14s/it]\n",
            "                 Class     Images  Instances          P          R      mAP50   mAP50-95: 100%|██████████| 4/4 [00:03<00:00,  1.18it/s]\n",
            "                   all        100        190      0.463      0.459      0.476      0.229\n",
            "\n",
            "      Epoch    GPU_mem   box_loss   obj_loss   cls_loss  Instances       Size\n",
            "      11/99      15.2G    0.03046    0.01181   0.002629         30        640: 100%|██████████| 53/53 [01:49<00:00,  2.07s/it]\n",
            "                 Class     Images  Instances          P          R      mAP50   mAP50-95: 100%|██████████| 4/4 [00:03<00:00,  1.19it/s]\n",
            "                   all        100        190      0.452      0.476       0.48      0.294\n",
            "\n",
            "      Epoch    GPU_mem   box_loss   obj_loss   cls_loss  Instances       Size\n",
            "      12/99      15.2G     0.0301    0.01155   0.002585         35        640: 100%|██████████| 53/53 [01:46<00:00,  2.02s/it]\n",
            "                 Class     Images  Instances          P          R      mAP50   mAP50-95: 100%|██████████| 4/4 [00:05<00:00,  1.31s/it]\n",
            "                   all        100        190      0.447      0.474      0.476      0.214\n",
            "\n",
            "      Epoch    GPU_mem   box_loss   obj_loss   cls_loss  Instances       Size\n",
            "      13/99      15.2G    0.02911    0.01123   0.002513         38        640: 100%|██████████| 53/53 [01:48<00:00,  2.04s/it]\n",
            "                 Class     Images  Instances          P          R      mAP50   mAP50-95: 100%|██████████| 4/4 [00:03<00:00,  1.25it/s]\n",
            "                   all        100        190      0.455      0.481      0.483      0.291\n",
            "\n",
            "      Epoch    GPU_mem   box_loss   obj_loss   cls_loss  Instances       Size\n",
            "      14/99      15.2G    0.02845    0.01129    0.00247         40        640: 100%|██████████| 53/53 [01:47<00:00,  2.02s/it]\n",
            "                 Class     Images  Instances          P          R      mAP50   mAP50-95: 100%|██████████| 4/4 [00:03<00:00,  1.17it/s]\n",
            "                   all        100        190      0.468      0.469      0.487       0.23\n",
            "\n",
            "      Epoch    GPU_mem   box_loss   obj_loss   cls_loss  Instances       Size\n",
            "      15/99      15.2G    0.02732    0.01116   0.002265         44        640: 100%|██████████| 53/53 [01:46<00:00,  2.01s/it]\n",
            "                 Class     Images  Instances          P          R      mAP50   mAP50-95: 100%|██████████| 4/4 [00:04<00:00,  1.00s/it]\n",
            "                   all        100        190      0.459      0.479      0.493      0.298\n",
            "\n",
            "      Epoch    GPU_mem   box_loss   obj_loss   cls_loss  Instances       Size\n",
            "      16/99      15.2G    0.02685     0.0113   0.002275         43        640: 100%|██████████| 53/53 [01:45<00:00,  1.98s/it]\n",
            "                 Class     Images  Instances          P          R      mAP50   mAP50-95: 100%|██████████| 4/4 [00:04<00:00,  1.23s/it]\n",
            "                   all        100        190      0.436      0.466      0.471      0.208\n",
            "\n",
            "      Epoch    GPU_mem   box_loss   obj_loss   cls_loss  Instances       Size\n",
            "      17/99      15.2G    0.02632    0.01079   0.002078         41        640: 100%|██████████| 53/53 [01:46<00:00,  2.00s/it]\n",
            "                 Class     Images  Instances          P          R      mAP50   mAP50-95: 100%|██████████| 4/4 [00:03<00:00,  1.02it/s]\n",
            "                   all        100        190      0.449      0.488      0.483      0.281\n",
            "\n",
            "      Epoch    GPU_mem   box_loss   obj_loss   cls_loss  Instances       Size\n",
            "      18/99      15.2G    0.02501    0.01052    0.00211         42        640: 100%|██████████| 53/53 [01:47<00:00,  2.03s/it]\n",
            "                 Class     Images  Instances          P          R      mAP50   mAP50-95: 100%|██████████| 4/4 [00:03<00:00,  1.18it/s]\n",
            "                   all        100        190      0.457      0.466      0.475      0.222\n",
            "\n",
            "      Epoch    GPU_mem   box_loss   obj_loss   cls_loss  Instances       Size\n",
            "      19/99      15.2G    0.02529     0.0103   0.001988         46        640: 100%|██████████| 53/53 [01:49<00:00,  2.06s/it]\n",
            "                 Class     Images  Instances          P          R      mAP50   mAP50-95: 100%|██████████| 4/4 [00:03<00:00,  1.18it/s]\n",
            "                   all        100        190      0.461      0.465      0.481      0.308\n",
            "\n",
            "      Epoch    GPU_mem   box_loss   obj_loss   cls_loss  Instances       Size\n",
            "      20/99      15.2G    0.02467    0.01079   0.001865         33        640: 100%|██████████| 53/53 [01:49<00:00,  2.07s/it]\n",
            "                 Class     Images  Instances          P          R      mAP50   mAP50-95: 100%|██████████| 4/4 [00:03<00:00,  1.21it/s]\n",
            "                   all        100        190      0.462      0.482      0.479      0.258\n",
            "\n",
            "      Epoch    GPU_mem   box_loss   obj_loss   cls_loss  Instances       Size\n",
            "      21/99      15.2G    0.02429    0.01015   0.001836         54        640: 100%|██████████| 53/53 [01:46<00:00,  2.02s/it]\n",
            "                 Class     Images  Instances          P          R      mAP50   mAP50-95: 100%|██████████| 4/4 [00:03<00:00,  1.27it/s]\n",
            "                   all        100        190      0.466      0.479      0.484      0.287\n",
            "\n",
            "      Epoch    GPU_mem   box_loss   obj_loss   cls_loss  Instances       Size\n",
            "      22/99      15.2G    0.02378    0.01025   0.001772         36        640: 100%|██████████| 53/53 [01:46<00:00,  2.01s/it]\n",
            "                 Class     Images  Instances          P          R      mAP50   mAP50-95: 100%|██████████| 4/4 [00:03<00:00,  1.27it/s]\n",
            "                   all        100        190      0.451      0.463      0.478      0.231\n",
            "\n",
            "      Epoch    GPU_mem   box_loss   obj_loss   cls_loss  Instances       Size\n",
            "      23/99      15.2G    0.02321    0.01014   0.001787         34        640: 100%|██████████| 53/53 [01:45<00:00,  1.99s/it]\n",
            "                 Class     Images  Instances          P          R      mAP50   mAP50-95: 100%|██████████| 4/4 [00:04<00:00,  1.17s/it]\n",
            "                   all        100        190      0.466      0.463      0.476      0.286\n",
            "\n",
            "      Epoch    GPU_mem   box_loss   obj_loss   cls_loss  Instances       Size\n",
            "      24/99      15.2G    0.02306    0.01009   0.001684         37        640: 100%|██████████| 53/53 [01:46<00:00,  2.01s/it]\n",
            "                 Class     Images  Instances          P          R      mAP50   mAP50-95: 100%|██████████| 4/4 [00:03<00:00,  1.18it/s]\n",
            "                   all        100        190      0.461      0.466       0.48      0.248\n",
            "\n",
            "      Epoch    GPU_mem   box_loss   obj_loss   cls_loss  Instances       Size\n",
            "      25/99      15.2G    0.02249     0.0102   0.001634         60        640: 100%|██████████| 53/53 [01:44<00:00,  1.97s/it]\n",
            "                 Class     Images  Instances          P          R      mAP50   mAP50-95: 100%|██████████| 4/4 [00:05<00:00,  1.38s/it]\n",
            "                   all        100        190      0.466      0.455      0.476       0.28\n",
            "\n",
            "      Epoch    GPU_mem   box_loss   obj_loss   cls_loss  Instances       Size\n",
            "      26/99      15.2G    0.02228   0.009468   0.001636         37        640: 100%|██████████| 53/53 [01:45<00:00,  2.00s/it]\n",
            "                 Class     Images  Instances          P          R      mAP50   mAP50-95: 100%|██████████| 4/4 [00:04<00:00,  1.14s/it]\n",
            "                   all        100        190       0.44      0.468      0.473      0.228\n",
            "\n",
            "      Epoch    GPU_mem   box_loss   obj_loss   cls_loss  Instances       Size\n",
            "      27/99      15.2G    0.02147   0.009326    0.00146         35        640: 100%|██████████| 53/53 [01:45<00:00,  1.99s/it]\n",
            "                 Class     Images  Instances          P          R      mAP50   mAP50-95: 100%|██████████| 4/4 [00:04<00:00,  1.07s/it]\n",
            "                   all        100        190      0.471      0.463      0.474      0.283\n",
            "\n",
            "      Epoch    GPU_mem   box_loss   obj_loss   cls_loss  Instances       Size\n",
            "      28/99      15.2G    0.02154   0.009451   0.001545         44        640: 100%|██████████| 53/53 [01:47<00:00,  2.03s/it]\n",
            "                 Class     Images  Instances          P          R      mAP50   mAP50-95: 100%|██████████| 4/4 [00:03<00:00,  1.21it/s]\n",
            "                   all        100        190      0.462      0.484      0.477      0.233\n",
            "\n",
            "      Epoch    GPU_mem   box_loss   obj_loss   cls_loss  Instances       Size\n",
            "      29/99      15.2G    0.02123   0.009412   0.001591         32        640: 100%|██████████| 53/53 [01:48<00:00,  2.05s/it]\n",
            "                 Class     Images  Instances          P          R      mAP50   mAP50-95: 100%|██████████| 4/4 [00:03<00:00,  1.07it/s]\n",
            "                   all        100        190      0.444      0.481      0.478       0.27\n",
            "\n",
            "      Epoch    GPU_mem   box_loss   obj_loss   cls_loss  Instances       Size\n",
            "      30/99      15.2G      0.021   0.009462   0.001438         23        640: 100%|██████████| 53/53 [01:48<00:00,  2.04s/it]\n",
            "                 Class     Images  Instances          P          R      mAP50   mAP50-95: 100%|██████████| 4/4 [00:03<00:00,  1.21it/s]\n",
            "                   all        100        190      0.449      0.468      0.467      0.223\n",
            "\n",
            "      Epoch    GPU_mem   box_loss   obj_loss   cls_loss  Instances       Size\n",
            "      31/99      15.2G    0.02019   0.009274   0.001485         51        640: 100%|██████████| 53/53 [01:47<00:00,  2.03s/it]\n",
            "                 Class     Images  Instances          P          R      mAP50   mAP50-95: 100%|██████████| 4/4 [00:03<00:00,  1.08it/s]\n",
            "                   all        100        190      0.459      0.471      0.478      0.274\n",
            "\n",
            "      Epoch    GPU_mem   box_loss   obj_loss   cls_loss  Instances       Size\n",
            "      32/99      15.2G    0.01991   0.008837   0.001464         38        640: 100%|██████████| 53/53 [01:44<00:00,  1.98s/it]\n",
            "                 Class     Images  Instances          P          R      mAP50   mAP50-95: 100%|██████████| 4/4 [00:04<00:00,  1.06s/it]\n",
            "                   all        100        190      0.467      0.455      0.481       0.26\n",
            "\n",
            "      Epoch    GPU_mem   box_loss   obj_loss   cls_loss  Instances       Size\n",
            "      33/99      15.2G    0.01962   0.009294   0.001485         45        640: 100%|██████████| 53/53 [01:44<00:00,  1.98s/it]\n",
            "                 Class     Images  Instances          P          R      mAP50   mAP50-95: 100%|██████████| 4/4 [00:05<00:00,  1.42s/it]\n",
            "                   all        100        190      0.461      0.471       0.48      0.275\n",
            "\n",
            "      Epoch    GPU_mem   box_loss   obj_loss   cls_loss  Instances       Size\n",
            "      34/99      15.2G    0.01945   0.008986   0.001508         48        640: 100%|██████████| 53/53 [01:47<00:00,  2.02s/it]\n",
            "                 Class     Images  Instances          P          R      mAP50   mAP50-95: 100%|██████████| 4/4 [00:04<00:00,  1.04s/it]\n",
            "                   all        100        190      0.453      0.471      0.479      0.256\n",
            "\n",
            "      Epoch    GPU_mem   box_loss   obj_loss   cls_loss  Instances       Size\n",
            "      35/99      15.2G    0.01957   0.008893   0.001329         33        640: 100%|██████████| 53/53 [01:45<00:00,  1.99s/it]\n",
            "                 Class     Images  Instances          P          R      mAP50   mAP50-95: 100%|██████████| 4/4 [00:03<00:00,  1.22it/s]\n",
            "                   all        100        190      0.448      0.481      0.478      0.241\n",
            "\n",
            "      Epoch    GPU_mem   box_loss   obj_loss   cls_loss  Instances       Size\n",
            "      36/99      15.2G    0.01915   0.008948   0.001488         46        640: 100%|██████████| 53/53 [01:45<00:00,  1.99s/it]\n",
            "                 Class     Images  Instances          P          R      mAP50   mAP50-95: 100%|██████████| 4/4 [00:03<00:00,  1.01it/s]\n",
            "                   all        100        190      0.466      0.468      0.476      0.273\n",
            "\n",
            "      Epoch    GPU_mem   box_loss   obj_loss   cls_loss  Instances       Size\n",
            "      37/99      15.2G    0.01866   0.008994   0.001345         59        640: 100%|██████████| 53/53 [01:43<00:00,  1.96s/it]\n",
            "                 Class     Images  Instances          P          R      mAP50   mAP50-95: 100%|██████████| 4/4 [00:04<00:00,  1.12s/it]\n",
            "                   all        100        190      0.457      0.479       0.48      0.265\n",
            "\n",
            "      Epoch    GPU_mem   box_loss   obj_loss   cls_loss  Instances       Size\n",
            "      38/99      15.2G    0.01901   0.008483   0.001245         41        640: 100%|██████████| 53/53 [01:44<00:00,  1.96s/it]\n",
            "                 Class     Images  Instances          P          R      mAP50   mAP50-95: 100%|██████████| 4/4 [00:03<00:00,  1.22it/s]\n",
            "                   all        100        190      0.474      0.463      0.483       0.28\n",
            "\n",
            "      Epoch    GPU_mem   box_loss   obj_loss   cls_loss  Instances       Size\n",
            "      39/99      15.2G    0.01863   0.008413    0.00131         36        640: 100%|██████████| 53/53 [01:42<00:00,  1.93s/it]\n",
            "                 Class     Images  Instances          P          R      mAP50   mAP50-95: 100%|██████████| 4/4 [00:05<00:00,  1.36s/it]\n",
            "                   all        100        190      0.473      0.456       0.48      0.256\n",
            "\n",
            "      Epoch    GPU_mem   box_loss   obj_loss   cls_loss  Instances       Size\n",
            "      40/99      15.2G    0.01858    0.00871   0.001192         47        640: 100%|██████████| 53/53 [01:44<00:00,  1.97s/it]\n",
            "                 Class     Images  Instances          P          R      mAP50   mAP50-95: 100%|██████████| 4/4 [00:03<00:00,  1.18it/s]\n",
            "                   all        100        190      0.473       0.46      0.475      0.264\n",
            "\n",
            "      Epoch    GPU_mem   box_loss   obj_loss   cls_loss  Instances       Size\n",
            "      41/99      15.2G     0.0179   0.008622   0.001176         59        640: 100%|██████████| 53/53 [01:45<00:00,  1.98s/it]\n",
            "                 Class     Images  Instances          P          R      mAP50   mAP50-95: 100%|██████████| 4/4 [00:04<00:00,  1.03s/it]\n",
            "                   all        100        190      0.467      0.481      0.481      0.274\n",
            "\n",
            "      Epoch    GPU_mem   box_loss   obj_loss   cls_loss  Instances       Size\n",
            "      42/99      15.2G    0.01765   0.008337   0.001244         39        640: 100%|██████████| 53/53 [01:42<00:00,  1.94s/it]\n",
            "                 Class     Images  Instances          P          R      mAP50   mAP50-95: 100%|██████████| 4/4 [00:04<00:00,  1.19s/it]\n",
            "                   all        100        190      0.451      0.464      0.481      0.269\n",
            "\n",
            "      Epoch    GPU_mem   box_loss   obj_loss   cls_loss  Instances       Size\n",
            "      43/99      15.2G    0.01766   0.008571    0.00115         31        640: 100%|██████████| 53/53 [01:42<00:00,  1.93s/it]\n",
            "                 Class     Images  Instances          P          R      mAP50   mAP50-95: 100%|██████████| 4/4 [00:04<00:00,  1.24s/it]\n",
            "                   all        100        190      0.478      0.444      0.479      0.244\n",
            "\n",
            "      Epoch    GPU_mem   box_loss   obj_loss   cls_loss  Instances       Size\n",
            "      44/99      15.2G    0.01764   0.008307   0.001128         36        640: 100%|██████████| 53/53 [01:44<00:00,  1.98s/it]\n",
            "                 Class     Images  Instances          P          R      mAP50   mAP50-95: 100%|██████████| 4/4 [00:03<00:00,  1.12it/s]\n",
            "                   all        100        190      0.467      0.463      0.476      0.286\n",
            "\n",
            "      Epoch    GPU_mem   box_loss   obj_loss   cls_loss  Instances       Size\n",
            "      45/99      15.2G    0.01772   0.008328   0.001064         45        640: 100%|██████████| 53/53 [01:45<00:00,  1.99s/it]\n",
            "                 Class     Images  Instances          P          R      mAP50   mAP50-95: 100%|██████████| 4/4 [00:03<00:00,  1.22it/s]\n",
            "                   all        100        190      0.468      0.462      0.478       0.25\n",
            "\n",
            "      Epoch    GPU_mem   box_loss   obj_loss   cls_loss  Instances       Size\n",
            "      46/99      15.2G    0.01709    0.00843   0.001074         36        640: 100%|██████████| 53/53 [01:44<00:00,  1.97s/it]\n",
            "                 Class     Images  Instances          P          R      mAP50   mAP50-95: 100%|██████████| 4/4 [00:03<00:00,  1.24it/s]\n",
            "                   all        100        190      0.476      0.471      0.478       0.27\n",
            "\n",
            "      Epoch    GPU_mem   box_loss   obj_loss   cls_loss  Instances       Size\n",
            "      47/99      15.2G    0.01663   0.008436  0.0009468         46        640: 100%|██████████| 53/53 [01:45<00:00,  1.99s/it]\n",
            "                 Class     Images  Instances          P          R      mAP50   mAP50-95: 100%|██████████| 4/4 [00:03<00:00,  1.02it/s]\n",
            "                   all        100        190      0.468      0.468      0.484      0.263\n",
            "\n",
            "      Epoch    GPU_mem   box_loss   obj_loss   cls_loss  Instances       Size\n",
            "      48/99      15.2G    0.01687    0.00801   0.001114         49        640: 100%|██████████| 53/53 [01:42<00:00,  1.93s/it]\n",
            "                 Class     Images  Instances          P          R      mAP50   mAP50-95: 100%|██████████| 4/4 [00:04<00:00,  1.17s/it]\n",
            "                   all        100        190       0.46      0.466      0.482      0.247\n",
            "\n",
            "      Epoch    GPU_mem   box_loss   obj_loss   cls_loss  Instances       Size\n",
            "      49/99      15.2G    0.01641   0.007935   0.001084         45        640: 100%|██████████| 53/53 [01:44<00:00,  1.98s/it]\n",
            "                 Class     Images  Instances          P          R      mAP50   mAP50-95: 100%|██████████| 4/4 [00:04<00:00,  1.07s/it]\n",
            "                   all        100        190      0.468      0.462      0.479      0.274\n",
            "\n",
            "      Epoch    GPU_mem   box_loss   obj_loss   cls_loss  Instances       Size\n",
            "      50/99      15.2G    0.01611   0.007815  0.0009115         37        640: 100%|██████████| 53/53 [01:45<00:00,  1.99s/it]\n",
            "                 Class     Images  Instances          P          R      mAP50   mAP50-95: 100%|██████████| 4/4 [00:03<00:00,  1.13it/s]\n",
            "                   all        100        190      0.472      0.466      0.481      0.269\n",
            "\n",
            "      Epoch    GPU_mem   box_loss   obj_loss   cls_loss  Instances       Size\n",
            "      51/99      15.2G    0.01578   0.007733  0.0009619         33        640: 100%|██████████| 53/53 [01:43<00:00,  1.94s/it]\n",
            "                 Class     Images  Instances          P          R      mAP50   mAP50-95: 100%|██████████| 4/4 [00:04<00:00,  1.08s/it]\n",
            "                   all        100        190      0.463      0.459      0.482      0.279\n",
            "\n",
            "      Epoch    GPU_mem   box_loss   obj_loss   cls_loss  Instances       Size\n",
            "      52/99      15.2G    0.01591   0.007897   0.001181         47        640: 100%|██████████| 53/53 [01:42<00:00,  1.94s/it]\n",
            "                 Class     Images  Instances          P          R      mAP50   mAP50-95: 100%|██████████| 4/4 [00:05<00:00,  1.32s/it]\n",
            "                   all        100        190      0.451      0.463      0.474      0.237\n",
            "\n",
            "      Epoch    GPU_mem   box_loss   obj_loss   cls_loss  Instances       Size\n",
            "      53/99      15.2G    0.01586   0.008089   0.001087         34        640: 100%|██████████| 53/53 [01:44<00:00,  1.97s/it]\n",
            "                 Class     Images  Instances          P          R      mAP50   mAP50-95: 100%|██████████| 4/4 [00:03<00:00,  1.23it/s]\n",
            "                   all        100        190      0.463      0.463      0.477      0.285\n",
            "\n",
            "      Epoch    GPU_mem   box_loss   obj_loss   cls_loss  Instances       Size\n",
            "      54/99      15.2G    0.01579   0.007541   0.001034         43        640: 100%|██████████| 53/53 [01:44<00:00,  1.98s/it]\n",
            "                 Class     Images  Instances          P          R      mAP50   mAP50-95: 100%|██████████| 4/4 [00:03<00:00,  1.16it/s]\n",
            "                   all        100        190      0.463      0.459       0.48      0.252\n",
            "\n",
            "      Epoch    GPU_mem   box_loss   obj_loss   cls_loss  Instances       Size\n",
            "      55/99      15.2G    0.01498   0.007301  0.0008835         34        640: 100%|██████████| 53/53 [01:43<00:00,  1.95s/it]\n",
            "                 Class     Images  Instances          P          R      mAP50   mAP50-95: 100%|██████████| 4/4 [00:03<00:00,  1.08it/s]\n",
            "                   all        100        190      0.464      0.449      0.478      0.278\n",
            "\n",
            "      Epoch    GPU_mem   box_loss   obj_loss   cls_loss  Instances       Size\n",
            "      56/99      15.2G    0.01506   0.007633  0.0008693         42        640: 100%|██████████| 53/53 [01:45<00:00,  1.98s/it]\n",
            "                 Class     Images  Instances          P          R      mAP50   mAP50-95: 100%|██████████| 4/4 [00:03<00:00,  1.19it/s]\n",
            "                   all        100        190       0.48      0.452      0.476      0.255\n",
            "\n",
            "      Epoch    GPU_mem   box_loss   obj_loss   cls_loss  Instances       Size\n",
            "      57/99      15.2G    0.01502   0.007643  0.0008837         34        640: 100%|██████████| 53/53 [01:43<00:00,  1.96s/it]\n",
            "                 Class     Images  Instances          P          R      mAP50   mAP50-95: 100%|██████████| 4/4 [00:05<00:00,  1.43s/it]\n",
            "                   all        100        190      0.487      0.447      0.481      0.269\n",
            "\n",
            "      Epoch    GPU_mem   box_loss   obj_loss   cls_loss  Instances       Size\n",
            "      58/99      15.2G    0.01417   0.007658  0.0008574         50        640: 100%|██████████| 53/53 [01:44<00:00,  1.97s/it]\n",
            "                 Class     Images  Instances          P          R      mAP50   mAP50-95: 100%|██████████| 4/4 [00:03<00:00,  1.24it/s]\n",
            "                   all        100        190       0.46      0.466      0.473      0.254\n",
            "\n",
            "      Epoch    GPU_mem   box_loss   obj_loss   cls_loss  Instances       Size\n",
            "      59/99      15.2G    0.01417    0.00702  0.0008269         53        640: 100%|██████████| 53/53 [01:44<00:00,  1.96s/it]\n",
            "                 Class     Images  Instances          P          R      mAP50   mAP50-95: 100%|██████████| 4/4 [00:05<00:00,  1.29s/it]\n",
            "                   all        100        190      0.473      0.444      0.472      0.243\n",
            "\n",
            "      Epoch    GPU_mem   box_loss   obj_loss   cls_loss  Instances       Size\n",
            "      60/99      15.2G    0.01457   0.007656  0.0007805         50        640: 100%|██████████| 53/53 [01:43<00:00,  1.96s/it]\n",
            "                 Class     Images  Instances          P          R      mAP50   mAP50-95: 100%|██████████| 4/4 [00:04<00:00,  1.21s/it]\n",
            "                   all        100        190       0.48      0.445      0.477      0.286\n",
            "\n",
            "      Epoch    GPU_mem   box_loss   obj_loss   cls_loss  Instances       Size\n",
            "      61/99      15.2G     0.0139    0.00743  0.0008131         49        640: 100%|██████████| 53/53 [01:46<00:00,  2.01s/it]\n",
            "                 Class     Images  Instances          P          R      mAP50   mAP50-95: 100%|██████████| 4/4 [00:03<00:00,  1.22it/s]\n",
            "                   all        100        190      0.468      0.455      0.476      0.251\n",
            "\n",
            "      Epoch    GPU_mem   box_loss   obj_loss   cls_loss  Instances       Size\n",
            "      62/99      15.2G    0.01403    0.00735  0.0007591         46        640: 100%|██████████| 53/53 [01:47<00:00,  2.03s/it]\n",
            "                 Class     Images  Instances          P          R      mAP50   mAP50-95: 100%|██████████| 4/4 [00:03<00:00,  1.16it/s]\n",
            "                   all        100        190      0.472      0.458      0.479       0.27\n",
            "\n",
            "      Epoch    GPU_mem   box_loss   obj_loss   cls_loss  Instances       Size\n",
            "      63/99      15.2G    0.01363   0.007554  0.0007675         40        640: 100%|██████████| 53/53 [01:44<00:00,  1.98s/it]\n",
            "                 Class     Images  Instances          P          R      mAP50   mAP50-95: 100%|██████████| 4/4 [00:03<00:00,  1.19it/s]\n",
            "                   all        100        190      0.486      0.451      0.478      0.265\n",
            "\n",
            "      Epoch    GPU_mem   box_loss   obj_loss   cls_loss  Instances       Size\n",
            "      64/99      15.2G     0.0137   0.007255  0.0007591         52        640: 100%|██████████| 53/53 [01:45<00:00,  1.99s/it]\n",
            "                 Class     Images  Instances          P          R      mAP50   mAP50-95: 100%|██████████| 4/4 [00:03<00:00,  1.18it/s]\n",
            "                   all        100        190      0.477      0.447      0.474      0.247\n",
            "\n",
            "      Epoch    GPU_mem   box_loss   obj_loss   cls_loss  Instances       Size\n",
            "      65/99      15.2G    0.01341   0.007244  0.0008586         35        640: 100%|██████████| 53/53 [01:46<00:00,  2.00s/it]\n",
            "                 Class     Images  Instances          P          R      mAP50   mAP50-95: 100%|██████████| 4/4 [00:03<00:00,  1.17it/s]\n",
            "                   all        100        190      0.473      0.455      0.476      0.257\n",
            "\n",
            "      Epoch    GPU_mem   box_loss   obj_loss   cls_loss  Instances       Size\n",
            "      66/99      15.2G    0.01338   0.007108  0.0007602         50        640: 100%|██████████| 53/53 [01:44<00:00,  1.96s/it]\n",
            "                 Class     Images  Instances          P          R      mAP50   mAP50-95: 100%|██████████| 4/4 [00:04<00:00,  1.00s/it]\n",
            "                   all        100        190      0.475      0.453      0.482      0.253\n",
            "\n",
            "      Epoch    GPU_mem   box_loss   obj_loss   cls_loss  Instances       Size\n",
            "      67/99      15.2G    0.01304   0.006975  0.0007312         46        640: 100%|██████████| 53/53 [01:45<00:00,  2.00s/it]\n",
            "                 Class     Images  Instances          P          R      mAP50   mAP50-95: 100%|██████████| 4/4 [00:03<00:00,  1.19it/s]\n",
            "                   all        100        190      0.476      0.452      0.478      0.244\n",
            "\n",
            "      Epoch    GPU_mem   box_loss   obj_loss   cls_loss  Instances       Size\n",
            "      68/99      15.2G    0.01285   0.007064  0.0007666         59        640: 100%|██████████| 53/53 [01:44<00:00,  1.96s/it]\n",
            "                 Class     Images  Instances          P          R      mAP50   mAP50-95: 100%|██████████| 4/4 [00:03<00:00,  1.00it/s]\n",
            "                   all        100        190      0.477      0.458      0.474      0.255\n",
            "\n",
            "      Epoch    GPU_mem   box_loss   obj_loss   cls_loss  Instances       Size\n",
            "      69/99      15.2G    0.01299   0.007295  0.0006539         44        640: 100%|██████████| 53/53 [01:42<00:00,  1.94s/it]\n",
            "                 Class     Images  Instances          P          R      mAP50   mAP50-95: 100%|██████████| 4/4 [00:05<00:00,  1.36s/it]\n",
            "                   all        100        190      0.464       0.46      0.474      0.248\n",
            "\n",
            "      Epoch    GPU_mem   box_loss   obj_loss   cls_loss  Instances       Size\n",
            "      70/99      15.2G    0.01264   0.006612  0.0006542         42        640: 100%|██████████| 53/53 [01:46<00:00,  2.00s/it]\n",
            "                 Class     Images  Instances          P          R      mAP50   mAP50-95: 100%|██████████| 4/4 [00:03<00:00,  1.18it/s]\n",
            "                   all        100        190      0.441      0.484       0.48      0.258\n",
            "\n",
            "      Epoch    GPU_mem   box_loss   obj_loss   cls_loss  Instances       Size\n",
            "      71/99      15.2G    0.01215   0.007069  0.0006257         64        640: 100%|██████████| 53/53 [01:42<00:00,  1.94s/it]\n",
            "                 Class     Images  Instances          P          R      mAP50   mAP50-95: 100%|██████████| 4/4 [00:05<00:00,  1.37s/it]\n",
            "                   all        100        190      0.455       0.46      0.478      0.255\n",
            "\n",
            "      Epoch    GPU_mem   box_loss   obj_loss   cls_loss  Instances       Size\n",
            "      72/99      15.2G    0.01206   0.006813  0.0006508         36        640: 100%|██████████| 53/53 [01:43<00:00,  1.95s/it]\n",
            "                 Class     Images  Instances          P          R      mAP50   mAP50-95: 100%|██████████| 4/4 [00:05<00:00,  1.28s/it]\n",
            "                   all        100        190      0.463       0.45      0.471      0.245\n",
            "\n",
            "      Epoch    GPU_mem   box_loss   obj_loss   cls_loss  Instances       Size\n",
            "      73/99      15.2G    0.01191    0.00685  0.0005854         33        640: 100%|██████████| 53/53 [01:46<00:00,  2.00s/it]\n",
            "                 Class     Images  Instances          P          R      mAP50   mAP50-95: 100%|██████████| 4/4 [00:03<00:00,  1.17it/s]\n",
            "                   all        100        190      0.461      0.458      0.477      0.266\n",
            "\n",
            "      Epoch    GPU_mem   box_loss   obj_loss   cls_loss  Instances       Size\n",
            "      74/99      15.2G    0.01154   0.006556  0.0006004         41        640: 100%|██████████| 53/53 [01:43<00:00,  1.95s/it]\n",
            "                 Class     Images  Instances          P          R      mAP50   mAP50-95: 100%|██████████| 4/4 [00:05<00:00,  1.40s/it]\n",
            "                   all        100        190      0.474      0.447      0.476      0.256\n",
            "\n",
            "      Epoch    GPU_mem   box_loss   obj_loss   cls_loss  Instances       Size\n",
            "      75/99      15.2G    0.01138   0.006468  0.0005515         24        640: 100%|██████████| 53/53 [01:45<00:00,  2.00s/it]\n",
            "                 Class     Images  Instances          P          R      mAP50   mAP50-95: 100%|██████████| 4/4 [00:03<00:00,  1.15it/s]\n",
            "                   all        100        190       0.46      0.458      0.474      0.253\n",
            "\n",
            "      Epoch    GPU_mem   box_loss   obj_loss   cls_loss  Instances       Size\n",
            "      76/99      15.2G    0.01126   0.006351   0.000541         31        640: 100%|██████████| 53/53 [01:45<00:00,  1.99s/it]\n",
            "                 Class     Images  Instances          P          R      mAP50   mAP50-95: 100%|██████████| 4/4 [00:03<00:00,  1.15it/s]\n",
            "                   all        100        190      0.472      0.454      0.476      0.263\n",
            "\n",
            "      Epoch    GPU_mem   box_loss   obj_loss   cls_loss  Instances       Size\n",
            "      77/99      15.2G    0.01145   0.006394  0.0005716         37        640: 100%|██████████| 53/53 [01:42<00:00,  1.94s/it]\n",
            "                 Class     Images  Instances          P          R      mAP50   mAP50-95: 100%|██████████| 4/4 [00:04<00:00,  1.15s/it]\n",
            "                   all        100        190      0.457      0.463      0.471      0.253\n",
            "\n",
            "      Epoch    GPU_mem   box_loss   obj_loss   cls_loss  Instances       Size\n",
            "      78/99      15.2G    0.01099   0.006131   0.000582         45        640: 100%|██████████| 53/53 [01:45<00:00,  1.98s/it]\n",
            "                 Class     Images  Instances          P          R      mAP50   mAP50-95: 100%|██████████| 4/4 [00:03<00:00,  1.18it/s]\n",
            "                   all        100        190      0.459       0.47      0.478      0.253\n",
            "\n",
            "      Epoch    GPU_mem   box_loss   obj_loss   cls_loss  Instances       Size\n",
            "      79/99      15.2G    0.01067    0.00638   0.000586         35        640: 100%|██████████| 53/53 [01:42<00:00,  1.93s/it]\n",
            "                 Class     Images  Instances          P          R      mAP50   mAP50-95: 100%|██████████| 4/4 [00:05<00:00,  1.31s/it]\n",
            "                   all        100        190      0.463      0.458      0.469      0.249\n",
            "\n",
            "      Epoch    GPU_mem   box_loss   obj_loss   cls_loss  Instances       Size\n",
            "      80/99      15.2G     0.0105   0.006142  0.0004849         43        640: 100%|██████████| 53/53 [01:45<00:00,  1.99s/it]\n",
            "                 Class     Images  Instances          P          R      mAP50   mAP50-95: 100%|██████████| 4/4 [00:03<00:00,  1.22it/s]\n",
            "                   all        100        190      0.474      0.444      0.469      0.256\n",
            "\n",
            "      Epoch    GPU_mem   box_loss   obj_loss   cls_loss  Instances       Size\n",
            "      81/99      15.2G    0.01074   0.006151  0.0004636         31        640: 100%|██████████| 53/53 [01:45<00:00,  1.99s/it]\n",
            "                 Class     Images  Instances          P          R      mAP50   mAP50-95: 100%|██████████| 4/4 [00:03<00:00,  1.25it/s]\n",
            "                   all        100        190      0.462      0.463       0.47      0.263\n",
            "\n",
            "      Epoch    GPU_mem   box_loss   obj_loss   cls_loss  Instances       Size\n",
            "      82/99      15.2G    0.01027   0.005984  0.0004511         43        640: 100%|██████████| 53/53 [01:46<00:00,  2.01s/it]\n",
            "                 Class     Images  Instances          P          R      mAP50   mAP50-95: 100%|██████████| 4/4 [00:03<00:00,  1.26it/s]\n",
            "                   all        100        190      0.468      0.464      0.477      0.263\n",
            "\n",
            "      Epoch    GPU_mem   box_loss   obj_loss   cls_loss  Instances       Size\n",
            "      83/99      15.2G    0.01022   0.006185  0.0004271         34        640: 100%|██████████| 53/53 [01:43<00:00,  1.95s/it]\n",
            "                 Class     Images  Instances          P          R      mAP50   mAP50-95: 100%|██████████| 4/4 [00:05<00:00,  1.37s/it]\n",
            "                   all        100        190       0.48      0.449      0.476      0.266\n",
            "\n",
            "      Epoch    GPU_mem   box_loss   obj_loss   cls_loss  Instances       Size\n",
            "      84/99      15.2G    0.01014   0.006009  0.0004456         45        640: 100%|██████████| 53/53 [01:42<00:00,  1.93s/it]\n",
            "                 Class     Images  Instances          P          R      mAP50   mAP50-95: 100%|██████████| 4/4 [00:04<00:00,  1.21s/it]\n",
            "                   all        100        190      0.454      0.468      0.475      0.258\n",
            "\n",
            "      Epoch    GPU_mem   box_loss   obj_loss   cls_loss  Instances       Size\n",
            "      85/99      15.2G    0.01001   0.005956  0.0004196         32        640: 100%|██████████| 53/53 [01:46<00:00,  2.00s/it]\n",
            "                 Class     Images  Instances          P          R      mAP50   mAP50-95: 100%|██████████| 4/4 [00:03<00:00,  1.23it/s]\n",
            "                   all        100        190      0.467      0.445      0.474      0.257\n",
            "\n",
            "      Epoch    GPU_mem   box_loss   obj_loss   cls_loss  Instances       Size\n",
            "      86/99      15.2G   0.009542   0.005765  0.0004282         39        640: 100%|██████████| 53/53 [01:45<00:00,  1.99s/it]\n",
            "                 Class     Images  Instances          P          R      mAP50   mAP50-95: 100%|██████████| 4/4 [00:04<00:00,  1.07s/it]\n",
            "                   all        100        190      0.465       0.46      0.471      0.258\n",
            "\n",
            "      Epoch    GPU_mem   box_loss   obj_loss   cls_loss  Instances       Size\n",
            "      87/99      15.2G    0.00941   0.005694  0.0004223         39        640: 100%|██████████| 53/53 [01:44<00:00,  1.97s/it]\n",
            "                 Class     Images  Instances          P          R      mAP50   mAP50-95: 100%|██████████| 4/4 [00:03<00:00,  1.09it/s]\n",
            "                   all        100        190       0.47      0.452       0.47      0.251\n",
            "\n",
            "      Epoch    GPU_mem   box_loss   obj_loss   cls_loss  Instances       Size\n",
            "      88/99      15.2G   0.009569   0.005762  0.0003648         41        640: 100%|██████████| 53/53 [01:43<00:00,  1.95s/it]\n",
            "                 Class     Images  Instances          P          R      mAP50   mAP50-95: 100%|██████████| 4/4 [00:05<00:00,  1.37s/it]\n",
            "                   all        100        190      0.474       0.45      0.469      0.252\n",
            "\n",
            "      Epoch    GPU_mem   box_loss   obj_loss   cls_loss  Instances       Size\n",
            "      89/99      15.2G   0.009391   0.005625  0.0004314         41        640: 100%|██████████| 53/53 [01:45<00:00,  1.99s/it]\n",
            "                 Class     Images  Instances          P          R      mAP50   mAP50-95: 100%|██████████| 4/4 [00:03<00:00,  1.14it/s]\n",
            "                   all        100        190      0.467      0.463      0.479      0.261\n",
            "\n",
            "      Epoch    GPU_mem   box_loss   obj_loss   cls_loss  Instances       Size\n",
            "      90/99      15.2G    0.00898   0.005453  0.0003584         36        640: 100%|██████████| 53/53 [01:45<00:00,  2.00s/it]\n",
            "                 Class     Images  Instances          P          R      mAP50   mAP50-95: 100%|██████████| 4/4 [00:03<00:00,  1.10it/s]\n",
            "                   all        100        190      0.458      0.468      0.479      0.263\n",
            "\n",
            "      Epoch    GPU_mem   box_loss   obj_loss   cls_loss  Instances       Size\n",
            "      91/99      15.2G   0.008925   0.005741  0.0003696         38        640: 100%|██████████| 53/53 [01:46<00:00,  2.01s/it]\n",
            "                 Class     Images  Instances          P          R      mAP50   mAP50-95: 100%|██████████| 4/4 [00:03<00:00,  1.17it/s]\n",
            "                   all        100        190      0.465      0.459      0.475       0.26\n",
            "\n",
            "      Epoch    GPU_mem   box_loss   obj_loss   cls_loss  Instances       Size\n",
            "      92/99      15.2G   0.008741    0.00569  0.0004347         25        640: 100%|██████████| 53/53 [01:45<00:00,  1.99s/it]\n",
            "                 Class     Images  Instances          P          R      mAP50   mAP50-95: 100%|██████████| 4/4 [00:04<00:00,  1.01s/it]\n",
            "                   all        100        190      0.468      0.462      0.474      0.265\n",
            "\n",
            "      Epoch    GPU_mem   box_loss   obj_loss   cls_loss  Instances       Size\n",
            "      93/99      15.2G   0.008808   0.005555  0.0003337         30        640: 100%|██████████| 53/53 [01:47<00:00,  2.03s/it]\n",
            "                 Class     Images  Instances          P          R      mAP50   mAP50-95: 100%|██████████| 4/4 [00:03<00:00,  1.17it/s]\n",
            "                   all        100        190       0.47      0.459      0.474      0.258\n",
            "\n",
            "      Epoch    GPU_mem   box_loss   obj_loss   cls_loss  Instances       Size\n",
            "      94/99      15.2G   0.008633   0.005855   0.000318         44        640: 100%|██████████| 53/53 [01:46<00:00,  2.01s/it]\n",
            "                 Class     Images  Instances          P          R      mAP50   mAP50-95: 100%|██████████| 4/4 [00:03<00:00,  1.22it/s]\n",
            "                   all        100        190      0.464      0.463      0.473      0.259\n",
            "\n",
            "      Epoch    GPU_mem   box_loss   obj_loss   cls_loss  Instances       Size\n",
            "      95/99      15.2G   0.008494   0.005434  0.0002861         46        640: 100%|██████████| 53/53 [01:44<00:00,  1.97s/it]\n",
            "                 Class     Images  Instances          P          R      mAP50   mAP50-95:  50%|█████     | 2/4 [00:01<00:01,  1.08it/s]"
          ]
        }
      ],
      "source": [
        "!python train.py --img 640 --batch 16 --epochs 100 --data myData.yaml --weights yolov5x.pt"
      ]
    },
    {
      "cell_type": "markdown",
      "metadata": {
        "id": "ac268aZ1Lnoi"
      },
      "source": [
        "### **TESTING THE \"RIDER\" MODEL**"
      ]
    },
    {
      "cell_type": "code",
      "execution_count": null,
      "metadata": {
        "colab": {
          "base_uri": "https://localhost:8080/"
        },
        "id": "2LCT59V2LsBv",
        "outputId": "4f807183-376a-4f11-f786-c0747f45347a"
      },
      "outputs": [
        {
          "output_type": "stream",
          "name": "stdout",
          "text": [
            "\u001b[34m\u001b[1mdetect: \u001b[0mweights=['runs/train/exp/weights/best.pt'], source=data/images/testing1.png, data=data/coco128.yaml, imgsz=[640, 640], conf_thres=0.25, iou_thres=0.45, max_det=1000, device=, view_img=False, save_txt=False, save_csv=False, save_conf=False, save_crop=False, nosave=False, classes=None, agnostic_nms=False, augment=False, visualize=False, update=False, project=runs/detect, name=exp, exist_ok=False, line_thickness=3, hide_labels=False, hide_conf=False, half=False, dnn=False, vid_stride=1\n",
            "YOLOv5 🚀 v7.0-307-g920c721e Python-3.10.12 torch-2.2.1+cu121 CUDA:0 (Tesla T4, 15102MiB)\n",
            "\n",
            "Fusing layers... \n",
            "Model summary: 267 layers, 46108278 parameters, 0 gradients, 107.6 GFLOPs\n",
            "WARNING ⚠️ NMS time limit 0.550s exceeded\n",
            "image 1/1 /content/yolov5/data/images/testing1.png: 640x384 1 RIDER, 66.6ms\n",
            "Speed: 0.5ms pre-process, 66.6ms inference, 587.8ms NMS per image at shape (1, 3, 640, 640)\n",
            "Results saved to \u001b[1mruns/detect/exp\u001b[0m\n"
          ]
        }
      ],
      "source": [
        "!python detect.py --weights runs/train/exp/weights/best.pt --img 640 --conf 0.25 --source data/images/testing1.png\n",
        "# display.Image(filename='runs/detect/exp/zidane.jpg', width=600)"
      ]
    }
  ],
  "metadata": {
    "colab": {
      "provenance": [],
      "gpuType": "T4",
      "include_colab_link": true
    },
    "kernelspec": {
      "display_name": "Python 3",
      "name": "python3"
    },
    "language_info": {
      "name": "python"
    },
    "accelerator": "GPU"
  },
  "nbformat": 4,
  "nbformat_minor": 0
}